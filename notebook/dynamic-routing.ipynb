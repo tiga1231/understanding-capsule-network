{
 "cells": [
  {
   "cell_type": "markdown",
   "metadata": {},
   "source": [
    "## Train mnist"
   ]
  },
  {
   "cell_type": "code",
   "execution_count": 1,
   "metadata": {},
   "outputs": [],
   "source": [
    "import tensorflow as tf"
   ]
  },
  {
   "cell_type": "code",
   "execution_count": 64,
   "metadata": {},
   "outputs": [
    {
     "name": "stdout",
     "output_type": "stream",
     "text": [
      "CUDA memory usage, 2.315244032 GB\n"
     ]
    }
   ],
   "source": [
    "import matplotlib.pyplot as plt\n",
    "import numpy as np\n",
    "from IPython import display\n",
    "import matplotlib.gridspec as gridspec\n",
    "import seaborn\n",
    "import matplotlib.animation as animation\n",
    "from IPython.core.display import HTML #,display\n",
    "\n",
    "\n",
    "import torch\n",
    "import torch.nn as nn\n",
    "import torch.nn.functional as F\n",
    "import torch.optim as optim\n",
    "from torch.utils.data.dataset import Dataset\n",
    "from torch.autograd import Variable\n",
    "from torch.nn.parameter import Parameter\n",
    "from torchvision.utils import make_grid\n",
    "\n",
    "from torchvision import datasets, transforms\n",
    "# torch.set_default_tensor_type('torch.cuda.FloatTensor')\n",
    "torch.set_default_tensor_type(torch.cuda.FloatTensor)\n",
    "\n",
    "from time import time\n",
    "import datetime\n",
    "from tqdm import tqdm_notebook as tqdm\n",
    "\n",
    "from glob import glob\n",
    "from natsort import natsorted\n",
    "\n",
    "from sklearn.decomposition import PCA\n",
    "import scipy.ndimage\n",
    "import imageio\n",
    "\n",
    "# import onnx\n",
    "# from onnx_tf.backend import prepare\n",
    "\n",
    "t0=time()\n",
    "def tick(msg=''):\n",
    "    global t0\n",
    "    t = time()-t0\n",
    "    print(msg, '{:.2f} sec'.format(t))\n",
    "    t0 = time()\n",
    "    \n",
    "    \n",
    "\n",
    "class Squash(nn.Module):\n",
    "    def __init__(self):\n",
    "        super().__init__()\n",
    "        \n",
    "    def forward(self, s):\n",
    "        # this is a wrong implementation but also works\n",
    "#         norm = (s**2).sum(dim=-1, keepdim=True)\n",
    "#         norm2 = norm ** 2\n",
    "\n",
    "        norm2 = (s**2).sum(dim=-1, keepdim=True)\n",
    "        norm = torch.sqrt(norm2)\n",
    "        \n",
    "        direction = s / norm\n",
    "        \n",
    "        length = norm2 / (1+norm2)\n",
    "#         length = norm / (1+norm)\n",
    "#         length = (torch.sigmoid(norm)-0.5)*2\n",
    "\n",
    "        return length * direction\n",
    "        \n",
    "        \n",
    "        \n",
    "class Capsule(nn.Module):\n",
    "    def __init__(self, nCapIn, dimCapIn, nCapOut, dimCapOut, dynamicRountingIter=3):\n",
    "        super().__init__()\n",
    "        self.nCapIn = nCapIn\n",
    "        self.nCapOut = nCapOut\n",
    "        self.dimCapIn = dimCapIn\n",
    "        self.dimCapOut = dimCapOut\n",
    "        self.dynamicRountingIter = dynamicRountingIter\n",
    "        self.w = Parameter(\n",
    "            torch.randn(nCapIn, dimCapIn, nCapOut*dimCapOut, requires_grad=True)\n",
    "        )\n",
    "        self.squash = Squash()\n",
    "        \n",
    "    def forward(self, u):\n",
    "        '''u = tensor[exampleId, capInId, capInDim]\n",
    "        return s = tensor[exampleId, capOutId, capOutDim]\n",
    "        '''\n",
    "        nExample = u.shape[0]\n",
    "        # this version (without for loop) is inspired by:\n",
    "        # https://github.com/adambielski/CapsNet-pytorch/blob/master/net.py\n",
    "        \n",
    "        # u = [#input, #capsIn, dimCapIn]\n",
    "        # u1 = [#input, #capsIn, 1, dimCapIn]\n",
    "        u = u.unsqueeze(2)\n",
    "        \n",
    "        # u1 = [#input, #capsIn, 1, dimCapIn]\n",
    "        # w =          [#capsIn,    #dimCapIn, #CapOut*dimCapOut]\n",
    "        uHat = u.matmul(self.w)\n",
    "        # uHat = [#input, #capsIn, 1, #CapOut*dimCapOut]\n",
    "        uHat = uHat.view(uHat.shape[0], uHat.shape[1], self.nCapOut, self.dimCapOut)\n",
    "        # uHat = [#input, #capsIn, #CapOut, dimCapOut]\n",
    "        self.uHat = uHat\n",
    "        \n",
    "        ## c=[#input, #capIn, #capOut]\n",
    "        b = torch.zeros(nExample, self.nCapIn, self.nCapOut)\n",
    "        c = F.softmax(b, dim=-1).detach()\n",
    "        self.c = c\n",
    "        ## c = [#input, #capIn, #capOut, 1]\n",
    "        c = c.unsqueeze(-1)\n",
    "        \n",
    "        ## uHat = [#input, #capIn, #capOut, dimCapOut]\n",
    "        ## c = [#input, #capsIn, #capOut, 1]\n",
    "        ## (uHat*c) = [#input, #capsIn, #CapOut, dimCapOut]\n",
    "        ## s = [#input, #CapOut, dimCapOut]\n",
    "        s = (uHat*c).sum(dim=1)\n",
    "        ## v = [#input, #CapOut, dimCapOut]\n",
    "        v = self.squash(s)\n",
    "        \n",
    "        ## dynamic routing\n",
    "        ## given uHat fixed, compute c and v\n",
    "        self.cs = []\n",
    "        for drIter in range(0, self.dynamicRountingIter):\n",
    "            # this version (without nested for loop) is inspired by:\n",
    "            # https://github.com/adambielski/CapsNet-pytorch/blob/master/net.py\n",
    "            \n",
    "            # update b\n",
    "            b_batch = b.clone()\n",
    "            v = v.unsqueeze(1)\n",
    "            b_batch += (uHat.detach() * v.detach()).sum(-1) # sum over dimCapOut dimension\n",
    "           \n",
    "            b = b + b_batch            \n",
    "            # update c\n",
    "            c = F.softmax(b, dim=-1).detach()\n",
    "            self.c = c[:,:,:]\n",
    "            self.cs.append(self.c)\n",
    "            c = c.unsqueeze(-1)            \n",
    "            # update v to recompute b and c\n",
    "            uHatC = uHat*c\n",
    "            s = (uHatC).sum(dim=1)\n",
    "            v = self.squash(s)\n",
    "            \n",
    "            self.uHatC = uHatC\n",
    "            self.s = s\n",
    "            self.v = v\n",
    "        return v\n",
    "    \n",
    "        \n",
    "    \n",
    "\n",
    "\n",
    "# class Capsule2D(Capsule):\n",
    "#     def __init__(self, nCapIn, dimCapIn, nCapOut, dimCapOut, dynamicRountingIter):\n",
    "#         super().__init__(nCapIn, dimCapIn, nCapOut, dimCapOut, dynamicRountingIter)\n",
    "        \n",
    "#     def forward(self, x):\n",
    "#         '''x[n_example, height, width, n_capsule_out, dim_capsule_in]\n",
    "#         return y[n_example, n_capsule_out, dim_capsule_out]\n",
    "#         '''\n",
    "# #         x = torch.sum(x, dim=[1,2])\n",
    "#         x = x.view(x.shape[0], self.nCapIn, self.dimCapIn)\n",
    "#         v = super().forward(x)\n",
    "#         return v\n",
    "    \n",
    "\n",
    "    \n",
    "    \n",
    "    \n",
    "class ReconstructionNet(nn.Module):\n",
    "    def __init__(self, dims):\n",
    "        super().__init__()\n",
    "        layers = sum([\n",
    "            [nn.Linear(dims[i], dims[i+1]), nn.ReLU()]\n",
    "            for i in range(len(dims)-2)\n",
    "        ] + [\n",
    "            [nn.Linear(dims[-2], dims[-1]), nn.Sigmoid()]\n",
    "        ], [])\n",
    "        \n",
    "        self.layers = nn.Sequential(*layers)\n",
    "    \n",
    "    def forward(self, x, target=None):\n",
    "        if len(x.shape) > 2:\n",
    "            x = x.view(-1, self.layers[0].in_features)\n",
    "        if target is not None:\n",
    "            e = torch.eye(10).unsqueeze(-1).expand([10,10,16]).contiguous().view(10, 160)\n",
    "            target = e.index_select(0, target)\n",
    "            x = x * target\n",
    "        return self.layers(x)\n",
    "    \n",
    "    \n",
    "    \n",
    "\n",
    "    \n",
    "class MnistNet(nn.Module):\n",
    "    def __init__(self, dynamicRountingIter):\n",
    "        super().__init__()\n",
    "        self.conv1 = nn.Conv2d(1,256,9,stride=1)\n",
    "        \n",
    "        ## correction inspired by \n",
    "        ## https://github.com/higgsfield/Capsule-Network-Tutorial/blob/master/Capsule%20Network.ipynb\n",
    "        self.conv2 = nn.Conv2d(256,8*32,9,stride=2)\n",
    "        \n",
    "        #primary-to-digit-cap (aka 'p2d')\n",
    "        self.p2d = Capsule(32*6*6, 8, 10,16, dynamicRountingIter)\n",
    "        self.squash = Squash()\n",
    "\n",
    "        self.relu = nn.ReLU()\n",
    "        self.reconstruct = ReconstructionNet([10*16, 512, 1024, 784])\n",
    "\n",
    "        \n",
    "    def forward(self, x):\n",
    "        ## ---------------------------------------\n",
    "        ## FIRST LAYER image -> ReLU_conv1 \n",
    "        \n",
    "        ## x[#input, 1, 28, 28]\n",
    "        y = self.conv1(x) ##[#input, 256, 20, 20]\n",
    "        y = self.relu(y) ##[#input, 256, 20, 20]\n",
    "        \n",
    "        ## ---------------------------------------\n",
    "        ## SECOND LAYER: ReLU_conv1 -> PrimaryCaps\n",
    "        \n",
    "        ## [#input, channel=8*32=256, height=6, width=6]\n",
    "        y = self.conv2(y)\n",
    "        ## [#input, height=6, width=6, channel=8*32=256]\n",
    "        s1 = y.permute([0,2,3,1]) \n",
    "        \n",
    "        ## [#input, height=6, width=6, nCap=32, dimCap=8]\n",
    "        s1 = s1.view(s1.shape[0], s1.shape[1], s1.shape[2], 32, 8)\n",
    "        \n",
    "        ## squash on last dimemsion: \n",
    "        ## (such that v1[i,x,y,c,:] has length at most 1)\n",
    "        ## [#input, height=6, width=6, nCap=32, nCaps=32, dimCap=8]\n",
    "        v1 = self.squash(s1) \n",
    "        \n",
    "        ## ---------------------------------------\n",
    "        ## THIRD LAYER: PrimaryCaps -> DigitCaps\n",
    "        \n",
    "        ## [#input, height=6, width=6, nCap=32, nCaps=32, dimCap=8]\n",
    "        v1_flat = v1.view(v1.shape[0], -1, v1.shape[-1])\n",
    "        ## [#input, nCap=6*6*32=1152, dimCap=8]\n",
    "        v2 = self.p2d(v1_flat)\n",
    "        return v2\n",
    "\n",
    "    \n",
    "class Cifar10Net(MnistNet):\n",
    "    def __init__(self, dynamicRountingIter):\n",
    "        super().__init__(dynamicRountingIter)\n",
    "        self.conv1 = nn.Conv2d(3,512,9,stride=1)\n",
    "        self.conv2 = nn.Conv2d(512,8*32,9,stride=2)\n",
    "\n",
    "        #primary-to-digit-cap (aka 'p2d')\n",
    "        self.p2d = Capsule(32*8*8, 8, 10,16, dynamicRountingIter)\n",
    "        self.reconstruct = ReconstructionNet([10*16, 512, 1024, 32*32*3])    \n",
    "    \n",
    "    \n",
    "def test(model, loader):\n",
    "    model.eval()\n",
    "    accuracy = 0\n",
    "    count = 0\n",
    "    pbar = tqdm(loader)\n",
    "    for imgs, targets in pbar:\n",
    "        imgs = imgs.cuda()\n",
    "        v = model(imgs)\n",
    "        vNorm = v.norm(dim=-1)\n",
    "        pred = vNorm.argmax(dim=-1)\n",
    "\n",
    "        accuracy += (pred == targets.cuda()).sum()\n",
    "        count += targets.shape[0]\n",
    "        pbar.set_postfix({'accuracy': (accuracy.float()/count).item() })\n",
    "    return accuracy.item(), count, (accuracy.float()/count).item()\n",
    "\n",
    "\n",
    "\n",
    "def mem(msg=None):\n",
    "    print(msg, end=', ')\n",
    "    print(torch.cuda.memory_allocated(device=None) / (1e9), 'GB')\n",
    "\n",
    "    \n",
    "    \n",
    "def supSample(x, side, stride):\n",
    "    \n",
    "    x0,x1 = x.shape\n",
    "    outSide = x0*stride+(side-1)\n",
    "    out = torch.zeros(outSide,outSide)\n",
    "    \n",
    "    kern = np.zeros([side,side])\n",
    "    kern[side//2, side//2] = 1\n",
    "    kern = scipy.ndimage.filters.gaussian_filter(kern, 2)\n",
    "    kern = torch.tensor(kern).float().cuda()\n",
    "#     print(kern.shape)\n",
    "    for i in range(x0):\n",
    "        xStart, xStop = i*stride, i*stride+side\n",
    "        for j in range(x1):\n",
    "            yStart, yStop = j*stride, j*stride+side\n",
    "            out[xStart:xStop, yStart:yStop] += kern*x[i,j]\n",
    "    return out\n",
    "\n",
    "\n",
    "mem('CUDA memory usage')\n",
    "plt.style.use('ggplot')\n",
    "plt.style.use('seaborn-colorblind')"
   ]
  },
  {
   "cell_type": "code",
   "execution_count": null,
   "metadata": {},
   "outputs": [],
   "source": [
    "# x = torch.rand(4,4)\n",
    "# out1 = supSample(x, 9, 2)\n",
    "# out2 = supSample(out1, 9, 1)\n",
    "# plt.subplot(131)\n",
    "# plt.imshow(x)\n",
    "# plt.subplot(132)\n",
    "# plt.imshow(out1)\n",
    "# plt.subplot(133)\n",
    "# plt.imshow(out2)"
   ]
  },
  {
   "cell_type": "markdown",
   "metadata": {},
   "source": [
    "## Dataset"
   ]
  },
  {
   "cell_type": "code",
   "execution_count": 65,
   "metadata": {},
   "outputs": [
    {
     "name": "stdout",
     "output_type": "stream",
     "text": [
      "Files already downloaded and verified\n",
      "Files already downloaded and verified\n"
     ]
    }
   ],
   "source": [
    "# transform_mean = (0.1307,)\n",
    "# transform_std = (0.3081,)\n",
    "transform = transforms.Compose([\n",
    "    transforms.RandomAffine(0, [2/28,2/28]), ##augment dataset\n",
    "    transforms.ToTensor(),\n",
    "#     transforms.Normalize(transform_mean, transform_std),\n",
    "])\n",
    "\n",
    "\n",
    "# dataset_name = 'mnist'\n",
    "# train_dataset = datasets.MNIST('./dataset/'+dataset_name, train=True, download=True, transform=transform)\n",
    "# test_dataset = datasets.MNIST('./dataset/'+dataset_name, train=False, download=True, transform=transform)\n",
    "\n",
    "\n",
    "# dataset_name = 'fashion-mnist'\n",
    "# train_dataset = datasets.FashionMNIST('./dataset/'+dataset_name, train=True, download=True, transform=transform)\n",
    "# test_dataset = datasets.FashionMNIST('./dataset/'+dataset_name, train=False, download=True, transform=transform)\n",
    "\n",
    "dataset_name = 'cifar10'\n",
    "train_dataset = datasets.CIFAR10('./dataset/'+dataset_name, train=True, download=True, transform=transform)\n",
    "test_dataset = datasets.CIFAR10('./dataset/'+dataset_name, train=False, download=True, transform=transform)"
   ]
  },
  {
   "cell_type": "markdown",
   "metadata": {},
   "source": [
    "## Model"
   ]
  },
  {
   "cell_type": "code",
   "execution_count": 72,
   "metadata": {},
   "outputs": [],
   "source": [
    "train_loader = torch.utils.data.DataLoader(train_dataset, batch_size=128, shuffle=True)\n",
    "test_loader = torch.utils.data.DataLoader(test_dataset, batch_size=64, shuffle=False)\n",
    "# model = MnistNet(dynamicRountingIter=5).train()\n",
    "model = Cifar10Net(dynamicRountingIter=5).train()\n",
    "parameters = model.parameters()"
   ]
  },
  {
   "cell_type": "code",
   "execution_count": 73,
   "metadata": {},
   "outputs": [],
   "source": [
    "!rm -r fig\n",
    "!mkdir -p fig/loss/png\n",
    "!mkdir -p fig/loss/svg\n",
    "!mkdir -p fig/dynamic-routing\n",
    "!mkdir -p fig/reconstruct"
   ]
  },
  {
   "cell_type": "code",
   "execution_count": 74,
   "metadata": {},
   "outputs": [
    {
     "data": {
      "text/plain": [
       "'cifar10'"
      ]
     },
     "execution_count": 74,
     "metadata": {},
     "output_type": "execute_result"
    }
   ],
   "source": [
    "dataset_name"
   ]
  },
  {
   "cell_type": "code",
   "execution_count": 75,
   "metadata": {},
   "outputs": [],
   "source": [
    "!rm -r capture/cifar10\n",
    "!mkdir -p capture/cifar10\n"
   ]
  },
  {
   "cell_type": "code",
   "execution_count": 76,
   "metadata": {},
   "outputs": [],
   "source": [
    "parameters = model.parameters()\n",
    "# optimizer = optim.SGD(parameters, lr=1e-4, momentum=0.99)\n",
    "optimizer = optim.Adam(parameters, lr=1e-4)\n",
    "# optimizer = optim.Adam(parameters, lr=5e-5)\n"
   ]
  },
  {
   "cell_type": "code",
   "execution_count": null,
   "metadata": {},
   "outputs": [],
   "source": []
  },
  {
   "cell_type": "code",
   "execution_count": 77,
   "metadata": {
    "scrolled": true
   },
   "outputs": [
    {
     "data": {
      "application/vnd.jupyter.widget-view+json": {
       "model_id": "a38bda24b7fb4d3fb80df452f849e8fd",
       "version_major": 2,
       "version_minor": 0
      },
      "text/plain": [
       "HBox(children=(IntProgress(value=0, max=200), HTML(value='')))"
      ]
     },
     "metadata": {},
     "output_type": "display_data"
    },
    {
     "data": {
      "application/vnd.jupyter.widget-view+json": {
       "model_id": "d1784466eed845598dfa9543df95f6ec",
       "version_major": 2,
       "version_minor": 0
      },
      "text/plain": [
       "HBox(children=(IntProgress(value=0, max=391), HTML(value='')))"
      ]
     },
     "metadata": {},
     "output_type": "display_data"
    },
    {
     "data": {
      "application/vnd.jupyter.widget-view+json": {
       "model_id": "6b92fa590e104b79be3cb98703009f0f",
       "version_major": 2,
       "version_minor": 0
      },
      "text/plain": [
       "HBox(children=(IntProgress(value=0, max=157), HTML(value='')))"
      ]
     },
     "metadata": {},
     "output_type": "display_data"
    },
    {
     "data": {
      "application/vnd.jupyter.widget-view+json": {
       "model_id": "59c860f3df8644efb99f1cba2088860c",
       "version_major": 2,
       "version_minor": 0
      },
      "text/plain": [
       "HBox(children=(IntProgress(value=0, max=391), HTML(value='')))"
      ]
     },
     "metadata": {},
     "output_type": "display_data"
    },
    {
     "data": {
      "application/vnd.jupyter.widget-view+json": {
       "model_id": "1760d6ed840444c8bb6a319d368abed7",
       "version_major": 2,
       "version_minor": 0
      },
      "text/plain": [
       "HBox(children=(IntProgress(value=0, max=157), HTML(value='')))"
      ]
     },
     "metadata": {},
     "output_type": "display_data"
    },
    {
     "data": {
      "application/vnd.jupyter.widget-view+json": {
       "model_id": "ef0dae16dd5c495087977859e61e42b9",
       "version_major": 2,
       "version_minor": 0
      },
      "text/plain": [
       "HBox(children=(IntProgress(value=0, max=391), HTML(value='')))"
      ]
     },
     "metadata": {},
     "output_type": "display_data"
    },
    {
     "data": {
      "application/vnd.jupyter.widget-view+json": {
       "model_id": "b63d02712fac460787c4d3f0866a361b",
       "version_major": 2,
       "version_minor": 0
      },
      "text/plain": [
       "HBox(children=(IntProgress(value=0, max=157), HTML(value='')))"
      ]
     },
     "metadata": {},
     "output_type": "display_data"
    },
    {
     "data": {
      "application/vnd.jupyter.widget-view+json": {
       "model_id": "77ded69afff24a90a636c729e98db86c",
       "version_major": 2,
       "version_minor": 0
      },
      "text/plain": [
       "HBox(children=(IntProgress(value=0, max=391), HTML(value='')))"
      ]
     },
     "metadata": {},
     "output_type": "display_data"
    },
    {
     "data": {
      "application/vnd.jupyter.widget-view+json": {
       "model_id": "bead5ea267b6423195d49d616cb17579",
       "version_major": 2,
       "version_minor": 0
      },
      "text/plain": [
       "HBox(children=(IntProgress(value=0, max=157), HTML(value='')))"
      ]
     },
     "metadata": {},
     "output_type": "display_data"
    },
    {
     "data": {
      "application/vnd.jupyter.widget-view+json": {
       "model_id": "0bca222891df4b4bbdfb951a2580acea",
       "version_major": 2,
       "version_minor": 0
      },
      "text/plain": [
       "HBox(children=(IntProgress(value=0, max=391), HTML(value='')))"
      ]
     },
     "metadata": {},
     "output_type": "display_data"
    },
    {
     "data": {
      "application/vnd.jupyter.widget-view+json": {
       "model_id": "2a14d51fba1042bb87a08322ce3185ef",
       "version_major": 2,
       "version_minor": 0
      },
      "text/plain": [
       "HBox(children=(IntProgress(value=0, max=157), HTML(value='')))"
      ]
     },
     "metadata": {},
     "output_type": "display_data"
    },
    {
     "data": {
      "application/vnd.jupyter.widget-view+json": {
       "model_id": "b4d938e068414e9cab390877f18fe76c",
       "version_major": 2,
       "version_minor": 0
      },
      "text/plain": [
       "HBox(children=(IntProgress(value=0, max=391), HTML(value='')))"
      ]
     },
     "metadata": {},
     "output_type": "display_data"
    },
    {
     "data": {
      "application/vnd.jupyter.widget-view+json": {
       "model_id": "61cd473dfbfc4c42b3ca508ef38778fd",
       "version_major": 2,
       "version_minor": 0
      },
      "text/plain": [
       "HBox(children=(IntProgress(value=0, max=157), HTML(value='')))"
      ]
     },
     "metadata": {},
     "output_type": "display_data"
    },
    {
     "data": {
      "application/vnd.jupyter.widget-view+json": {
       "model_id": "10b45f11aa394ff4abd7a7c6acf1a580",
       "version_major": 2,
       "version_minor": 0
      },
      "text/plain": [
       "HBox(children=(IntProgress(value=0, max=391), HTML(value='')))"
      ]
     },
     "metadata": {},
     "output_type": "display_data"
    },
    {
     "data": {
      "application/vnd.jupyter.widget-view+json": {
       "model_id": "46d5e7ee62ee40a8b7e5cb8fe6d7c4ad",
       "version_major": 2,
       "version_minor": 0
      },
      "text/plain": [
       "HBox(children=(IntProgress(value=0, max=157), HTML(value='')))"
      ]
     },
     "metadata": {},
     "output_type": "display_data"
    },
    {
     "data": {
      "application/vnd.jupyter.widget-view+json": {
       "model_id": "6b77ed6bd65041efb86cff5f42dfe7e1",
       "version_major": 2,
       "version_minor": 0
      },
      "text/plain": [
       "HBox(children=(IntProgress(value=0, max=391), HTML(value='')))"
      ]
     },
     "metadata": {},
     "output_type": "display_data"
    },
    {
     "data": {
      "application/vnd.jupyter.widget-view+json": {
       "model_id": "4b8f83917bbd4538a3912baa41ed5859",
       "version_major": 2,
       "version_minor": 0
      },
      "text/plain": [
       "HBox(children=(IntProgress(value=0, max=157), HTML(value='')))"
      ]
     },
     "metadata": {},
     "output_type": "display_data"
    },
    {
     "data": {
      "application/vnd.jupyter.widget-view+json": {
       "model_id": "2bdaa01b6c7b424eb1e6eef7aefbff09",
       "version_major": 2,
       "version_minor": 0
      },
      "text/plain": [
       "HBox(children=(IntProgress(value=0, max=391), HTML(value='')))"
      ]
     },
     "metadata": {},
     "output_type": "display_data"
    },
    {
     "data": {
      "application/vnd.jupyter.widget-view+json": {
       "model_id": "ea9983c599984698b2d054fadde243a1",
       "version_major": 2,
       "version_minor": 0
      },
      "text/plain": [
       "HBox(children=(IntProgress(value=0, max=157), HTML(value='')))"
      ]
     },
     "metadata": {},
     "output_type": "display_data"
    },
    {
     "data": {
      "application/vnd.jupyter.widget-view+json": {
       "model_id": "ef843c401c8b44e49fd36779aacbe847",
       "version_major": 2,
       "version_minor": 0
      },
      "text/plain": [
       "HBox(children=(IntProgress(value=0, max=391), HTML(value='')))"
      ]
     },
     "metadata": {},
     "output_type": "display_data"
    },
    {
     "data": {
      "application/vnd.jupyter.widget-view+json": {
       "model_id": "51dac0b211f64e909f21659963abbf98",
       "version_major": 2,
       "version_minor": 0
      },
      "text/plain": [
       "HBox(children=(IntProgress(value=0, max=157), HTML(value='')))"
      ]
     },
     "metadata": {},
     "output_type": "display_data"
    },
    {
     "data": {
      "application/vnd.jupyter.widget-view+json": {
       "model_id": "3c8ed3d4b42c4ad69a5ebfe8071af172",
       "version_major": 2,
       "version_minor": 0
      },
      "text/plain": [
       "HBox(children=(IntProgress(value=0, max=391), HTML(value='')))"
      ]
     },
     "metadata": {},
     "output_type": "display_data"
    },
    {
     "data": {
      "application/vnd.jupyter.widget-view+json": {
       "model_id": "0a373ffe39da4cc5b87dd42085df0e74",
       "version_major": 2,
       "version_minor": 0
      },
      "text/plain": [
       "HBox(children=(IntProgress(value=0, max=157), HTML(value='')))"
      ]
     },
     "metadata": {},
     "output_type": "display_data"
    },
    {
     "data": {
      "application/vnd.jupyter.widget-view+json": {
       "model_id": "adb65be2b08f40f1beac2b05cb4f24c0",
       "version_major": 2,
       "version_minor": 0
      },
      "text/plain": [
       "HBox(children=(IntProgress(value=0, max=391), HTML(value='')))"
      ]
     },
     "metadata": {},
     "output_type": "display_data"
    },
    {
     "data": {
      "application/vnd.jupyter.widget-view+json": {
       "model_id": "365311fa2fbb42b5bbca9f5fc444b6ad",
       "version_major": 2,
       "version_minor": 0
      },
      "text/plain": [
       "HBox(children=(IntProgress(value=0, max=157), HTML(value='')))"
      ]
     },
     "metadata": {},
     "output_type": "display_data"
    },
    {
     "data": {
      "application/vnd.jupyter.widget-view+json": {
       "model_id": "cc8bd9389c954b6d8d909f276fc60cf4",
       "version_major": 2,
       "version_minor": 0
      },
      "text/plain": [
       "HBox(children=(IntProgress(value=0, max=391), HTML(value='')))"
      ]
     },
     "metadata": {},
     "output_type": "display_data"
    },
    {
     "data": {
      "application/vnd.jupyter.widget-view+json": {
       "model_id": "bb896982030c43bcae5512bc67e85754",
       "version_major": 2,
       "version_minor": 0
      },
      "text/plain": [
       "HBox(children=(IntProgress(value=0, max=157), HTML(value='')))"
      ]
     },
     "metadata": {},
     "output_type": "display_data"
    },
    {
     "data": {
      "application/vnd.jupyter.widget-view+json": {
       "model_id": "fa2f800eb56d495a9c31e09b25940d26",
       "version_major": 2,
       "version_minor": 0
      },
      "text/plain": [
       "HBox(children=(IntProgress(value=0, max=391), HTML(value='')))"
      ]
     },
     "metadata": {},
     "output_type": "display_data"
    },
    {
     "data": {
      "application/vnd.jupyter.widget-view+json": {
       "model_id": "a0f6e7ef23c04b91a0e8ad882bcc0f15",
       "version_major": 2,
       "version_minor": 0
      },
      "text/plain": [
       "HBox(children=(IntProgress(value=0, max=157), HTML(value='')))"
      ]
     },
     "metadata": {},
     "output_type": "display_data"
    },
    {
     "data": {
      "application/vnd.jupyter.widget-view+json": {
       "model_id": "037ca2ade39e4383b67f0b75ede5ee93",
       "version_major": 2,
       "version_minor": 0
      },
      "text/plain": [
       "HBox(children=(IntProgress(value=0, max=391), HTML(value='')))"
      ]
     },
     "metadata": {},
     "output_type": "display_data"
    },
    {
     "data": {
      "application/vnd.jupyter.widget-view+json": {
       "model_id": "da72f9fa9380432eb7e3a597981c7260",
       "version_major": 2,
       "version_minor": 0
      },
      "text/plain": [
       "HBox(children=(IntProgress(value=0, max=157), HTML(value='')))"
      ]
     },
     "metadata": {},
     "output_type": "display_data"
    },
    {
     "data": {
      "application/vnd.jupyter.widget-view+json": {
       "model_id": "8223afee31714493a36bbf00fd65bd3c",
       "version_major": 2,
       "version_minor": 0
      },
      "text/plain": [
       "HBox(children=(IntProgress(value=0, max=391), HTML(value='')))"
      ]
     },
     "metadata": {},
     "output_type": "display_data"
    },
    {
     "data": {
      "application/vnd.jupyter.widget-view+json": {
       "model_id": "c1376bda0c584357a8efcbdecb3597d9",
       "version_major": 2,
       "version_minor": 0
      },
      "text/plain": [
       "HBox(children=(IntProgress(value=0, max=157), HTML(value='')))"
      ]
     },
     "metadata": {},
     "output_type": "display_data"
    },
    {
     "data": {
      "application/vnd.jupyter.widget-view+json": {
       "model_id": "faf468088c694ca584600e04fb570a75",
       "version_major": 2,
       "version_minor": 0
      },
      "text/plain": [
       "HBox(children=(IntProgress(value=0, max=391), HTML(value='')))"
      ]
     },
     "metadata": {},
     "output_type": "display_data"
    },
    {
     "data": {
      "application/vnd.jupyter.widget-view+json": {
       "model_id": "b9dd3e7f6aff44f9b36ac33538d7faf1",
       "version_major": 2,
       "version_minor": 0
      },
      "text/plain": [
       "HBox(children=(IntProgress(value=0, max=157), HTML(value='')))"
      ]
     },
     "metadata": {},
     "output_type": "display_data"
    },
    {
     "data": {
      "application/vnd.jupyter.widget-view+json": {
       "model_id": "37242dd4f8494506b9144a5d1d7c3a9b",
       "version_major": 2,
       "version_minor": 0
      },
      "text/plain": [
       "HBox(children=(IntProgress(value=0, max=391), HTML(value='')))"
      ]
     },
     "metadata": {},
     "output_type": "display_data"
    },
    {
     "data": {
      "application/vnd.jupyter.widget-view+json": {
       "model_id": "f6eed24e68ac4c3e9cfe902fd662ecb2",
       "version_major": 2,
       "version_minor": 0
      },
      "text/plain": [
       "HBox(children=(IntProgress(value=0, max=157), HTML(value='')))"
      ]
     },
     "metadata": {},
     "output_type": "display_data"
    },
    {
     "data": {
      "application/vnd.jupyter.widget-view+json": {
       "model_id": "fac4f36c01f34bcf93f32cde37eb9758",
       "version_major": 2,
       "version_minor": 0
      },
      "text/plain": [
       "HBox(children=(IntProgress(value=0, max=391), HTML(value='')))"
      ]
     },
     "metadata": {},
     "output_type": "display_data"
    },
    {
     "data": {
      "application/vnd.jupyter.widget-view+json": {
       "model_id": "7fed71318a6a4c9998c82c0c4d2abbb5",
       "version_major": 2,
       "version_minor": 0
      },
      "text/plain": [
       "HBox(children=(IntProgress(value=0, max=157), HTML(value='')))"
      ]
     },
     "metadata": {},
     "output_type": "display_data"
    },
    {
     "data": {
      "application/vnd.jupyter.widget-view+json": {
       "model_id": "202bdaad2c4c4afa9de345dc39dad135",
       "version_major": 2,
       "version_minor": 0
      },
      "text/plain": [
       "HBox(children=(IntProgress(value=0, max=391), HTML(value='')))"
      ]
     },
     "metadata": {},
     "output_type": "display_data"
    },
    {
     "data": {
      "application/vnd.jupyter.widget-view+json": {
       "model_id": "71b65b8ebd874814a24cd58aef1f9253",
       "version_major": 2,
       "version_minor": 0
      },
      "text/plain": [
       "HBox(children=(IntProgress(value=0, max=157), HTML(value='')))"
      ]
     },
     "metadata": {},
     "output_type": "display_data"
    },
    {
     "data": {
      "application/vnd.jupyter.widget-view+json": {
       "model_id": "6c98932e92a24b6f8b443621fc176f2d",
       "version_major": 2,
       "version_minor": 0
      },
      "text/plain": [
       "HBox(children=(IntProgress(value=0, max=391), HTML(value='')))"
      ]
     },
     "metadata": {},
     "output_type": "display_data"
    },
    {
     "ename": "KeyboardInterrupt",
     "evalue": "",
     "output_type": "error",
     "traceback": [
      "\u001b[0;31m---------------------------------------------------------------------------\u001b[0m",
      "\u001b[0;31mKeyboardInterrupt\u001b[0m                         Traceback (most recent call last)",
      "\u001b[0;32m<ipython-input-77-e937eaa9ac23>\u001b[0m in \u001b[0;36m<module>\u001b[0;34m\u001b[0m\n\u001b[1;32m     67\u001b[0m         \u001b[0moptimizer\u001b[0m\u001b[0;34m.\u001b[0m\u001b[0mstep\u001b[0m\u001b[0;34m(\u001b[0m\u001b[0;34m)\u001b[0m\u001b[0;34m\u001b[0m\u001b[0;34m\u001b[0m\u001b[0m\n\u001b[1;32m     68\u001b[0m \u001b[0;31m#             scheduler.step(loss)\u001b[0m\u001b[0;34m\u001b[0m\u001b[0;34m\u001b[0m\u001b[0;34m\u001b[0m\u001b[0m\n\u001b[0;32m---> 69\u001b[0;31m         \u001b[0mlossHistory\u001b[0m\u001b[0;34m.\u001b[0m\u001b[0mappend\u001b[0m\u001b[0;34m(\u001b[0m\u001b[0mnp\u001b[0m\u001b[0;34m.\u001b[0m\u001b[0mlog\u001b[0m\u001b[0;34m(\u001b[0m\u001b[0mloss\u001b[0m\u001b[0;34m.\u001b[0m\u001b[0mitem\u001b[0m\u001b[0;34m(\u001b[0m\u001b[0;34m)\u001b[0m\u001b[0;34m)\u001b[0m\u001b[0;34m)\u001b[0m\u001b[0;34m\u001b[0m\u001b[0;34m\u001b[0m\u001b[0m\n\u001b[0m\u001b[1;32m     70\u001b[0m \u001b[0;34m\u001b[0m\u001b[0m\n\u001b[1;32m     71\u001b[0m         \u001b[0mpbar\u001b[0m\u001b[0;34m.\u001b[0m\u001b[0mset_postfix\u001b[0m\u001b[0;34m(\u001b[0m\u001b[0;34m{\u001b[0m\u001b[0;34m'loss'\u001b[0m\u001b[0;34m:\u001b[0m \u001b[0mloss\u001b[0m\u001b[0;34m.\u001b[0m\u001b[0mitem\u001b[0m\u001b[0;34m(\u001b[0m\u001b[0;34m)\u001b[0m\u001b[0;34m}\u001b[0m\u001b[0;34m)\u001b[0m\u001b[0;34m\u001b[0m\u001b[0;34m\u001b[0m\u001b[0m\n",
      "\u001b[0;31mKeyboardInterrupt\u001b[0m: "
     ]
    }
   ],
   "source": [
    "# %%time\n",
    "\n",
    "if model.__class__ == MnistNet:\n",
    "    img_shape = (1,28,28)\n",
    "elif model.__class__ == Cifar10Net:\n",
    "    img_shape = (3,32,32)\n",
    "            \n",
    "mPlus = 0.9\n",
    "mMinus = 0.1\n",
    "def marginLoss(v, target):\n",
    "    # v=[#input, 10,16]\n",
    "    \n",
    "    #[#input, 10]\n",
    "    vNorm = v.norm(dim=-1)\n",
    "    left = F.relu(mPlus-vNorm)**2\n",
    "    right = F.relu(vNorm-mMinus)**2\n",
    "    l1 = target * left\n",
    "    l2 = 0.5 * (1.0 - target) * right    \n",
    "    return (l1+l2).sum(dim=1).mean()\n",
    "\n",
    "\n",
    "\n",
    "mse = nn.MSELoss()\n",
    "l1 = nn.L1Loss()\n",
    "def reconstructionLoss(reconstructed, original):\n",
    "#     return mse(reconstructed, original)\n",
    "    return 0.8*l1(reconstructed, original)+mse(reconstructed, original)\n",
    "\n",
    "\n",
    "lossHistory = []\n",
    "accuracyHistory = []\n",
    "nepoch = 200\n",
    "\n",
    "gs = gridspec.GridSpec(2, 5, width_ratios=[4,1,1,1,1])\n",
    "gs.update(left=0.05, right=0.95, wspace=0.01, hspace=0.5)\n",
    "\n",
    "gs2 = gridspec.GridSpec(3, 5, width_ratios=[1]*5, height_ratios=[1,1,1])\n",
    "gs2.update(left=0.05, right=0.95, wspace=0.1, hspace=0.2)\n",
    "\n",
    "gs3 = gridspec.GridSpec(2, 10, width_ratios=[1]*10, height_ratios=[3,19])\n",
    "gs3.update(left=0.05, right=0.95, wspace=0.1, hspace=0.05)\n",
    "\n",
    "\n",
    "k = -1\n",
    "t0 = time()\n",
    "\n",
    "shouldShow = False\n",
    "\n",
    "for epoch in tqdm(range(nepoch)):\n",
    "    pbar = tqdm(train_loader)\n",
    "    for imgs, targets in pbar:\n",
    "        k+=1\n",
    "        imgs = imgs.cuda()\n",
    "        targets = targets.cuda()\n",
    "        targets_onehot = torch.eye(10).index_select(dim=0, index=targets)\n",
    "        v = model(imgs)\n",
    "        \n",
    "        reconstructed = model.reconstruct(v, targets).view(-1,*img_shape)\n",
    "\n",
    "        loss = marginLoss(v, targets_onehot)\n",
    "#             loss += 0.0005 * reconstructionLoss(reconstructed, imgs)\n",
    "#             loss += 0.005*reconstructionLoss(reconstructed, imgs)\n",
    "        loss += 5*reconstructionLoss(reconstructed, imgs)\n",
    "\n",
    "        model.zero_grad()\n",
    "        loss.backward()\n",
    "        optimizer.step()\n",
    "#             scheduler.step(loss)        \n",
    "        lossHistory.append(np.log(loss.item()))\n",
    "\n",
    "        pbar.set_postfix({'loss': loss.item()})\n",
    "        if k%100==99:\n",
    "#         if k%10==9:\n",
    "            with torch.no_grad():\n",
    "                if shouldShow:\n",
    "                    display.clear_output(wait=True)\n",
    "\n",
    "                fig = plt.figure(figsize=[25,6])\n",
    "                plt.subplot(gs[:,0])\n",
    "                plt.plot(lossHistory)\n",
    "\n",
    "                t = time()-t0\n",
    "                plt.title('training time: {:.2f} sec\\nepoch = {}, loss = {:.2g}, lr={}'\\\n",
    "                          .format(t, epoch, loss.item(), optimizer.param_groups[0]['lr']))\n",
    "\n",
    "                #show margin loss\n",
    "                vNorm = v.norm(dim=-1)\n",
    "\n",
    "                plt.subplot(gs[:,1])\n",
    "                plt.imshow(vNorm[:30].detach().cpu().numpy(), vmin=0)\n",
    "                plt.colorbar()\n",
    "                plt.title('class prediction')\n",
    "\n",
    "                plt.subplot(gs[:,2])\n",
    "                plt.imshow(targets_onehot[:30].detach().cpu().numpy(), vmin=0)\n",
    "                plt.colorbar()\n",
    "                plt.title('ground truth')\n",
    "\n",
    "                plt.subplot(gs[0,3])\n",
    "                c = model.p2d.c[0:2, :20, :].cpu().numpy()\n",
    "                plt.imshow(c[0], vmin=0)\n",
    "                plt.colorbar()\n",
    "                plt.title('dynamic routing')\n",
    "                plt.subplot(gs[1,3])\n",
    "                plt.imshow(c[1], vmin=0)\n",
    "                plt.colorbar()\n",
    "\n",
    "                plt.subplot(gs[0,4])\n",
    "                plt.imshow(reconstructed[0].permute(1,2,0).detach().cpu().numpy(), vmin=0, vmax=1)\n",
    "                plt.axis('off')\n",
    "                plt.colorbar()\n",
    "                plt.title('reconstruction')\n",
    "                plt.subplot(gs[1,4])\n",
    "                plt.imshow(reconstructed[1].permute(1,2,0).detach().cpu().numpy(), vmin=0, vmax=1)\n",
    "                plt.axis('off')\n",
    "                plt.colorbar()\n",
    "\n",
    "                if shouldShow:\n",
    "                    display.display(plt.gcf())\n",
    "                plt.savefig('fig/loss/png/loss-{}.png'.format(epoch), dpi=fig.dpi)\n",
    "                plt.savefig('fig/loss/svg/loss-{}.svg'.format(epoch), dpi=fig.dpi)\n",
    "                plt.close()\n",
    "\n",
    "                ## show reconstruction\n",
    "                orig = imgs\n",
    "                act = model(orig)\n",
    "                recon = model.reconstruct(act, targets).reshape([len(targets),*img_shape])\n",
    "                im = torch.stack([orig, recon], dim=1).view([-1,*img_shape])\n",
    "                im = make_grid(im.cpu(), nrow=len(targets)//4, padding=2, pad_value=1, normalize=True).numpy().transpose([1,2,0])\n",
    "                # orig = make_grid(orig.cpu(), nrow=10, padding=5, pad_value=1, normalize=True).numpy().transpose([1,2,0])\n",
    "                plt.figure(figsize=[32,8])\n",
    "                # plt.subplot(121)\n",
    "                plt.imshow(im, vmin=0, vmax=1)\n",
    "                plt.axis('off')\n",
    "                if shouldShow:\n",
    "                    display.display(plt.gcf())\n",
    "                imageio.imwrite('fig/reconstruct/recon-{}.png'.format(epoch), (im*255).astype('uint8'))\n",
    "                plt.close()\n",
    "\n",
    "                # image example\n",
    "#                     fig = plt.figure(figsize=[18,10])\n",
    "#                     plt.subplot(gs2[0,:])\n",
    "#                     plt.imshow(imgs[0,0].cpu().numpy())\n",
    "#                     plt.axis('off')\n",
    "\n",
    "                # option1: dynamic rounting coefficients\n",
    "#                     c = model.p2d.c[0, :, :].cpu().numpy()\n",
    "#                     c = c.reshape([6,6,32,10]).sum(axis=2)\n",
    "#                     vmax = c.max()\n",
    "#                     for i in range(10):\n",
    "#                         plt.subplot(gs2[1+i//5,i%5])\n",
    "#                         plt.imshow(c[:,:,i], vmin=0, vmax=vmax)\n",
    "#                         plt.title(str(i))\n",
    "#                         plt.axis('off')\n",
    "\n",
    "                ## option2: summands of instanciation vectors\n",
    "#                     uHatC = model.p2d.uHatC[0]\n",
    "#                     label = targets[0].item()\n",
    "# #                     ax = plt.subplot(gs2[1,label])\n",
    "#                     for i in range(10):\n",
    "#                         plt.subplot(gs2[1+i//5,i%5])\n",
    "#                         plt.scatter(uHatC[:,i,0], uHatC[:,i,1], s=4, \n",
    "#                                     c='C1' if i==label else 'C0')\n",
    "#                         plt.title('{}: {:.4f}'.format(i, uHatC[:,i,:].sum(dim=0).norm()))\n",
    "\n",
    "\n",
    "                ## option3: norm of instanciation vectors (attension)\n",
    "#                     uHatC = model.p2d.uHatC[0].view(6,6,32,10,16)\n",
    "#                     norm = uHatC.norm(dim=2).norm(dim=-1)\n",
    "# #                     norm = uHatC[:,:,0].norm(dim=-1)\n",
    "#                     attentions = [supSample(supSample(norm[:,:,i],9,2),9,1) for i in range(10)]\n",
    "#                     vmax = torch.max(torch.stack(attentions)).item()\n",
    "#                     label = targets[0].item()\n",
    "#                     for i in range(10):\n",
    "\n",
    "#                         plt.subplot(gs2[1+i//5,i%5])\n",
    "#                         plt.imshow(imgs[0,0].cpu().numpy(),cmap='gray')\n",
    "\n",
    "#                         plt.imshow(attentions[i].cpu(),\n",
    "#                                    alpha=0.9,\n",
    "#                                    vmax=vmax, vmin=0)\n",
    "#                         plt.title('{}'.format(i))\n",
    "\n",
    "\n",
    "\n",
    "\n",
    "#                     ## image example\n",
    "#                     fig = plt.figure(figsize=[6,22])\n",
    "#                     plt.subplot(gs3[0,:])\n",
    "#                     plt.imshow(imgs[0,0].cpu().numpy())\n",
    "#                     plt.axis('off')\n",
    "# #                     ## dynamic rounting coefficients\n",
    "#                     c = model.p2d.c[0, :, :].cpu().numpy()\n",
    "#                     c = c.reshape([-1,6,10])\n",
    "#                     vmax = c.max()\n",
    "#                     for i in range(10):\n",
    "#                         plt.subplot(gs3[1,i])\n",
    "#                         plt.imshow(c[:,:,i], vmin=0, vmax=vmax)\n",
    "#                         plt.title(str(i))\n",
    "#                         plt.axis('off')\n",
    "\n",
    "#                     if shouldShow:\n",
    "#                         display.display(plt.gcf())\n",
    "#                     plt.savefig('fig/dynamic-routing/dr{}.png'.format(epoch), dpi=fig.dpi)\n",
    "#                     plt.close()\n",
    "\n",
    "\n",
    "    torch.save(model.state_dict(), 'capture/{}/model.{}'.format(dataset_name, epoch))\n",
    "    _,_,acc = test(model, test_loader)\n",
    "    \n",
    "    \n",
    "    ## shrink learning rate\n",
    "    if epoch % 2 == 1:\n",
    "        for pg in optimizer.param_groups:\n",
    "            pg['lr'] *= 0.98\n",
    "        \n",
    "        \n",
    "        \n",
    "        \n",
    "torch.save(model.state_dict(), 'capture/{}/model.{}'.format(dataset_name, 999))\n",
    "            "
   ]
  },
  {
   "cell_type": "code",
   "execution_count": 40,
   "metadata": {},
   "outputs": [
    {
     "data": {
      "text/plain": [
       "'cifar10'"
      ]
     },
     "execution_count": 40,
     "metadata": {},
     "output_type": "execute_result"
    }
   ],
   "source": [
    "dataset_name"
   ]
  },
  {
   "cell_type": "code",
   "execution_count": null,
   "metadata": {},
   "outputs": [],
   "source": [
    "torch.save(model.state_dict(), 'capture/{}/model.{}'.format(dataset_name, 199))\n"
   ]
  },
  {
   "cell_type": "markdown",
   "metadata": {},
   "source": [
    "## test"
   ]
  },
  {
   "cell_type": "code",
   "execution_count": null,
   "metadata": {
    "scrolled": true
   },
   "outputs": [],
   "source": [
    "model = MnistNet(dynamicRountingIter=5)\n",
    "model.load_state_dict(torch.load('capture/{}/model.{}'.format(dataset_name, 199)))"
   ]
  },
  {
   "cell_type": "code",
   "execution_count": null,
   "metadata": {
    "scrolled": true
   },
   "outputs": [],
   "source": [
    "def test(model, loader):\n",
    "    model.eval()\n",
    "    accuracy = 0\n",
    "    count = 0\n",
    "    pbar = tqdm(loader)\n",
    "    for imgs, targets in pbar:\n",
    "        imgs = imgs.cuda()\n",
    "        v = model(imgs)\n",
    "        vNorm = v.norm(dim=-1)\n",
    "        pred = vNorm.argmax(dim=-1)\n",
    "\n",
    "        accuracy += (pred == targets.cuda()).sum()\n",
    "        count += targets.shape[0]\n",
    "        pbar.set_postfix({'accuracy': (accuracy.float()/count).item() })\n",
    "    return accuracy.item(), count, (accuracy.float()/count).item()\n",
    "\n",
    "test(model, test_loader)"
   ]
  },
  {
   "cell_type": "markdown",
   "metadata": {},
   "source": [
    "## vis dynamic routing"
   ]
  },
  {
   "cell_type": "code",
   "execution_count": null,
   "metadata": {
    "scrolled": false
   },
   "outputs": [],
   "source": [
    "\n",
    "for imgs, targets in train_loader:\n",
    "    imgs = imgs.cuda()\n",
    "    v = model(imgs)\n",
    "    break\n",
    "\n",
    "egIndex = 0\n",
    "digitIndex = targets[egIndex].item()\n",
    "uHat = model.p2d.uHat[egIndex].detach().cpu().numpy()\n",
    "plt.imshow(imgs[egIndex,0].cpu())\n",
    "for epoch in range(100,101):\n",
    "    print(epoch)\n",
    "    model.load_state_dict(torch.load('capture/MnistNet.model.{}'.format(epoch)))\n",
    "    model(imgs[:1])\n",
    "    uHat = model.p2d.uHat[egIndex].detach().cpu().numpy()\n",
    "    cs = model.p2d.cs\n",
    "    \n",
    "    c = cs[-1]\n",
    "    for c in cs:\n",
    "        ceg = c[egIndex].detach().cpu().numpy()\n",
    "        plt.figure(figsize=[46,16])\n",
    "        for digitIndex in range(10):\n",
    "            if digitIndex == 0:\n",
    "                ax = plt.subplot(1,10,digitIndex+1)\n",
    "            else:\n",
    "                plt.subplot(1,10,digitIndex+1, sharex=ax, sharey=ax)\n",
    "            c = ceg[:,digitIndex]\n",
    "            xy = uHat[:,digitIndex,:]\n",
    "            centroid = np.sum(xy*c.reshape([-1,1]), axis=0, keepdims=True)\n",
    "\n",
    "            pca = PCA()\n",
    "            pca.fit(xy)\n",
    "            xy = pca.transform(xy)\n",
    "            centroid = pca.transform(centroid)\n",
    "\n",
    "            dim0,dim1 = 0,1\n",
    "            plt.plot([0,centroid[0,dim0]], [0,centroid[0,dim1]], 'C1:.', zorder=1)\n",
    "            plt.scatter(xy[:,dim0], xy[:,dim1], s=c**2*10, zorder=2)\n",
    "            plt.title(digitIndex)\n",
    "\n",
    "        #     vsum = np.zeros([16])\n",
    "        #     for v,ci in sorted(zip(xy,c), key=lambda x:-np.linalg.norm(x[0])*x[1])[:10]:\n",
    "        #         plt.arrow(vsum[dim0], vsum[dim1], v[dim0]*ci, v[dim1]*ci, color='C1')\n",
    "        #         vsum += v*ci\n",
    "\n",
    "            plt.axis('square')\n",
    "        plt.show()\n"
   ]
  },
  {
   "cell_type": "markdown",
   "metadata": {},
   "source": [
    "## Analyze digitCap statistics"
   ]
  },
  {
   "cell_type": "code",
   "execution_count": null,
   "metadata": {},
   "outputs": [],
   "source": [
    "# model = MnistNet(dynamicRountingIter=5)\n",
    "# model.load_state_dict(torch.load('capture/MnistNet.model.100'))"
   ]
  },
  {
   "cell_type": "code",
   "execution_count": null,
   "metadata": {},
   "outputs": [],
   "source": [
    "train_loader = torch.utils.data.DataLoader(train_dataset, batch_size=128, shuffle=True)\n",
    "test_loader = torch.utils.data.DataLoader(test_dataset, batch_size=64, shuffle=False)\n",
    "\n",
    "model.eval()\n",
    "digitCapActivation1 = []\n",
    "targets1 = []\n",
    "imgs1 = []\n",
    "for imgs, targets in tqdm(test_loader):\n",
    "    imgs, targets = imgs.cuda(), targets.cuda()   \n",
    "    with torch.no_grad():\n",
    "        v = model(imgs)\n",
    "        imgs1.append(imgs)\n",
    "        digitCapActivation1.append( v )\n",
    "        targets1.append(targets)\n",
    "\n",
    "targets1 = torch.cat(targets1)\n",
    "digitCapActivation1 = torch.cat(digitCapActivation1, dim=0)\n",
    "imgs1 = torch.cat(imgs1)"
   ]
  },
  {
   "cell_type": "markdown",
   "metadata": {},
   "source": [
    "## show reconstruction"
   ]
  },
  {
   "cell_type": "code",
   "execution_count": null,
   "metadata": {},
   "outputs": [],
   "source": [
    "indices = [i for i in range(0,1000)]\n",
    "nexample = len(indices)\n",
    "\n",
    "orig = imgs1[indices]\n",
    "with torch.no_grad():\n",
    "    act = digitCapActivation1[indices]\n",
    "    recon = model.reconstruct(act, targets1[indices]).reshape([nexample,1,28,28])\n",
    "\n",
    "im = torch.stack([orig, recon], dim=1).view([-1,1,28,28])\n",
    "im = make_grid(im.cpu(), nrow=20, padding=2, pad_value=1, normalize=True).numpy().transpose([1,2,0])\n",
    "# orig = make_grid(orig.cpu(), nrow=10, padding=5, pad_value=1, normalize=True).numpy().transpose([1,2,0])\n",
    "\n",
    "plt.figure(figsize=[20,50])\n",
    "# plt.subplot(121)\n",
    "plt.imshow(im, vmin=0, vmax=1)\n",
    "plt.axis('off')\n",
    "# plt.subplot(122)\n",
    "# plt.imshow(recon, vmin=0, vmax=1)\n",
    "# #     plt.axis('off')"
   ]
  },
  {
   "cell_type": "markdown",
   "metadata": {},
   "source": [
    "## reconstruction by epcoh"
   ]
  },
  {
   "cell_type": "code",
   "execution_count": null,
   "metadata": {},
   "outputs": [],
   "source": [
    "indices = [i for i in range(0,20)]\n",
    "epochs = [0,1,2,4,10,100,199]\n",
    "nexample = len(indices)\n",
    "nrow = nexample\n",
    "padding = 2\n",
    "\n",
    "gs = GridSpec(nrows=len(epochs)+1, ncols=1)\n",
    "# gs.update(hspace=0.0, wspace=0)\n",
    "plt.figure(figsize=[30,12])\n",
    "\n",
    "orig = imgs1[indices]\n",
    "\n",
    "\n",
    "\n",
    "model = MnistNet(dynamicRountingIter=5)\n",
    "for i,epoch in enumerate(epochs):\n",
    "    model.load_state_dict(torch.load('capture/MnistNet.model.{}'.format(epoch)))\n",
    "    with torch.no_grad():\n",
    "        act = model(orig)\n",
    "        recon = model.reconstruct(act, targets1[indices]).reshape([nexample,1,28,28])\n",
    "\n",
    "#     im = torch.stack([recon], dim=1).view([-1,1,28,28])\n",
    "    im = make_grid(recon.cpu(), nrow=nrow, padding=padding, pad_value=1, normalize=True).numpy().transpose([1,2,0])\n",
    "    plt.subplot(gs[i,0])\n",
    "    plt.imshow(im, vmin=0, vmax=1)\n",
    "    plt.xticks([])\n",
    "    plt.yticks([])\n",
    "    plt.ylabel('Ecoch {}'.format(epoch))\n",
    "\n",
    "im = make_grid(orig.cpu(), nrow=nrow, padding=padding, pad_value=1, normalize=True).numpy().transpose([1,2,0])\n",
    "plt.subplot(gs[-1,0])\n",
    "plt.imshow(im, vmin=0, vmax=1)\n",
    "plt.xticks([])\n",
    "plt.yticks([])\n",
    "plt.ylabel('Original')\n",
    "plt.show()"
   ]
  },
  {
   "cell_type": "markdown",
   "metadata": {},
   "source": [
    "## Histogram / KDE"
   ]
  },
  {
   "cell_type": "code",
   "execution_count": null,
   "metadata": {},
   "outputs": [],
   "source": [
    "digitCapActivation2 = digitCapActivation1.cpu().numpy()\n",
    "targets2 = targets1.cpu().numpy()\n",
    "imgs2 = imgs1.cpu().numpy()"
   ]
  },
  {
   "cell_type": "code",
   "execution_count": null,
   "metadata": {},
   "outputs": [],
   "source": [
    "model.load_state_dict(torch.load('capture/MnistNet.model.{}'.format(199)))"
   ]
  },
  {
   "cell_type": "code",
   "execution_count": null,
   "metadata": {
    "scrolled": true
   },
   "outputs": [],
   "source": [
    "# plt.style.use('seaborn-colorblind')\n",
    "gs = gridspec.GridSpec(5,2)\n",
    "gs.update(left=0.05, right=0.95, wspace=0.1, hspace=0.1)\n",
    "fig = plt.figure(figsize=[20, 40])\n",
    "\n",
    "drange = np.zeros([10,16,2])\n",
    "dmeanstd = np.zeros([10,16,2])\n",
    "\n",
    "ax = plt.subplot(gs[0,0])\n",
    "\n",
    "\n",
    "\n",
    "for i in range(10):\n",
    "    d = digitCapActivation2[targets2==i]\n",
    "    \n",
    "    dmean = np.mean(d[:,i,:], axis=0, keepdims=True)\n",
    "    dstd = np.std(d[:,i,:], axis=0, keepdims=True)\n",
    "    dmeanstd[i,:,0] = dmean\n",
    "    dmeanstd[i,:,1] = dstd\n",
    "    dnorm = d#(d-dmean) / dstd\n",
    "\n",
    "#     dmin = d[:,i,:].min(axis=0, keepdims=True)\n",
    "#     dmax = d[:,i,:].max(axis=0, keepdims=True)\n",
    "#     drange[i,:,0] = dmin\n",
    "#     drange[i,:,1] = dmax\n",
    "#     dnorm = (d-dmin) / (dmax-dmin)\n",
    "\n",
    "    plt.subplot(gs[i//2, i%2], sharex=ax)\n",
    "    for j in range(16):\n",
    "        seaborn.kdeplot(dnorm[:,i,j], bw=0.2, gridsize=1000, cumulative=False)\n",
    "#     plt.xlim([-2,2])\n",
    "plt.show()\n"
   ]
  },
  {
   "cell_type": "markdown",
   "metadata": {},
   "source": [
    "## generative model"
   ]
  },
  {
   "cell_type": "code",
   "execution_count": null,
   "metadata": {},
   "outputs": [],
   "source": [
    "meanstd = torch.from_numpy(dmeanstd).float()\n",
    "meanstd = meanstd.cuda()"
   ]
  },
  {
   "cell_type": "code",
   "execution_count": null,
   "metadata": {},
   "outputs": [],
   "source": [
    "targetClass = 3\n",
    "nexample = 20\n",
    "plt.figure(figsize=[20,10])\n",
    "gs = gridspec.GridSpec(nrows=10, ncols=1)\n",
    "gs.update(hspace=0)\n",
    "for targetClass in range(10):\n",
    "    sample = torch.zeros(nexample,10,16)\n",
    "    sample[:,targetClass,:] = torch.randn(nexample,16) * 0.4\n",
    "    sample[:,targetClass,:] = sample[:,targetClass,:] * meanstd[targetClass,:,1] + meanstd[targetClass,:,0]\n",
    "    with torch.no_grad():\n",
    "        recon = model.reconstruct(sample).view(-1,1,28,28)\n",
    "    recon = make_grid(recon, nrow=nexample,normalize=True)\n",
    "    recon = recon.cpu().numpy().transpose([1,2,0])\n",
    "    plt.subplot(gs[targetClass,0])\n",
    "    plt.imshow(recon)\n",
    "    plt.axis('off')\n",
    "plt.show()"
   ]
  },
  {
   "cell_type": "markdown",
   "metadata": {},
   "source": [
    "## scatter plot, two classes"
   ]
  },
  {
   "cell_type": "code",
   "execution_count": null,
   "metadata": {},
   "outputs": [],
   "source": [
    "digit0,dim0 = 0,3\n",
    "digit1,dim1 = 1,0\n",
    "c = plt.cm.tab10(targets2)\n",
    "plt.figure(figsize=[10,10])\n",
    "plt.scatter(digitCapActivation2[:,digit0,dim0],digitCapActivation2[:,digit1,dim1], \n",
    "        alpha=0.99, s=20,\n",
    "        facecolors=c, edgecolors=c,\n",
    "        cmap='tab10')\n",
    "plt.xlabel('dim{} of digit{} capsule'.format(dim0, digit0))\n",
    "plt.ylabel('dim{} of digit{} capsule'.format(dim1, digit1))"
   ]
  },
  {
   "cell_type": "markdown",
   "metadata": {},
   "source": [
    "## scatter plot, single class"
   ]
  },
  {
   "cell_type": "code",
   "execution_count": null,
   "metadata": {},
   "outputs": [],
   "source": [
    "targetClass = 5\n",
    "\n",
    "d = digitCapActivation2[targets2==targetClass]\n",
    "c = plt.cm.tab10(targets2[targets2==targetClass])\n",
    "im = imgs2[targets2==targetClass]\n",
    "\n",
    "proj = np.random.randn(16, 2)\n",
    "coord = np.dot(d[:,targetClass,:], proj)\n",
    "imgSize = np.abs(coord).max() / 30\n",
    "plt.figure(figsize=[10,10])\n",
    "\n",
    "## show image\n",
    "# for i,[x,y] in enumerate(coord[:150]):\n",
    "#     plt.imshow(im[i,0], extent=[x, x+imgSize, y, y+imgSize], cmap='Greys')\n",
    "    \n",
    "plt.scatter(coord[:,0],coord[:,1], \n",
    "        alpha=0.6, s=10,\n",
    "        facecolors=c, edgecolors='none',\n",
    "        cmap='tab10')\n",
    "\n",
    "# plt.xlim([-0.025,0.025])\n",
    "# plt.ylim([-0.025,0.025])"
   ]
  },
  {
   "cell_type": "code",
   "execution_count": null,
   "metadata": {},
   "outputs": [],
   "source": []
  },
  {
   "cell_type": "code",
   "execution_count": null,
   "metadata": {},
   "outputs": [],
   "source": [
    "%%time\n",
    "\n",
    "from sklearn.decomposition import PCA\n",
    "from sklearn.manifold import TSNE, MDS\n",
    "# from umap import UMAP\n",
    "\n",
    "# model = UMAP(n_neighbors=10, min_dist=0.4)\n",
    "npoint = 10000\n",
    "\n",
    "digitCapActivation3 = digitCapActivation2[:npoint,:,:]\n",
    "digitCapActivation3 = digitCapActivation3.reshape(digitCapActivation3.shape[0], -1)\n",
    "# digitCapActivation3 = model.fit_transform(digitCapActivation3)\n",
    "imgs3 = imgs1.cpu().numpy()\n",
    "\n",
    "\n",
    "## random projection\n",
    "# digitCapActivation3 = digitCapActivation2[:,6,:].reshape([digitCapActivation2.shape[0], -1])\n",
    "# proj = np.random.randn(digitCapActivation3.shape[1], 2)\n",
    "# digitCapActivation3 = np.dot(digitCapActivation3, proj)"
   ]
  },
  {
   "cell_type": "code",
   "execution_count": null,
   "metadata": {},
   "outputs": [],
   "source": [
    "# seaborn.kdeplot(digitCapActivation1[:,0,6], gridsize=1000)\n",
    "plt.figure(figsize=[20,20])\n",
    "\n",
    "c = plt.cm.tab10(targets2)\n",
    "# m = plt.cm.ScalarMappable(cmap=plt.cm.tab10)\n",
    "\n",
    "# for i,[x,y] in enumerate(digitCapActivation3[:300]):\n",
    "#     plt.imshow(imgs3[i,0], extent=[x, x+0.3, y, y+0.3])\n",
    "    \n",
    "# plt.scatter(digitCapActivation3[:npoint,0],\n",
    "#             digitCapActivation3[:npoint,1], \n",
    "#             alpha=0.7,\n",
    "#             facecolors=c[:npoint], edgecolors='none', cmap='tab10',\n",
    "#             s=10)\n",
    "plt.scatter(digitCapActivation2[:npoint,4,0],\n",
    "            digitCapActivation2[:npoint,8,1], \n",
    "            alpha=0.5,\n",
    "            facecolors=c[:npoint], cmap='tab10',\n",
    "            s=20)\n",
    "plt.axis('equal')\n",
    "# plt.colorbar(m)\n",
    "# plt.savefig('instantiation-parameter.svg')\n",
    "# plt.xlim([-0.02, 0.02])\n",
    "plt.show()"
   ]
  },
  {
   "cell_type": "markdown",
   "metadata": {},
   "source": [
    "## grand tour"
   ]
  },
  {
   "cell_type": "code",
   "execution_count": null,
   "metadata": {},
   "outputs": [],
   "source": [
    "def mix(a,b, p):\n",
    "    return (1-p)*a + p*b\n",
    "\n",
    "\n",
    "def embed(x, canvas):\n",
    "    canvas[:x.shape[0],:x.shape[1]] = x\n",
    "    return canvas\n",
    "\n",
    "\n",
    "def rot(ndim, dim1, dim2, theta):\n",
    "    res = np.eye(ndim)\n",
    "    res[dim1, dim1] = np.cos(theta)\n",
    "    res[dim2, dim1] = -np.sin(theta)\n",
    "    res[dim1, dim2] = np.sin(theta)\n",
    "    res[dim2, dim2] = np.cos(theta)\n",
    "    return res\n",
    "\n",
    "\n",
    "def getMatrix(baseMatrix, d_thetas, stop_dim=10):\n",
    "    n = 0\n",
    "    ndim = baseMatrix.shape[0]\n",
    "    matrix = baseMatrix\n",
    "    for i in range(ndim):\n",
    "        for j in range(ndim):\n",
    "            if i!=j:\n",
    "                rot_ij = rot(ndim, i, j, d_thetas[i,j])\n",
    "                matrix = matrix.dot(rot_ij)\n",
    "    return matrix\n",
    "\n",
    "\n",
    "class GrandTour():\n",
    "    def __init__(self, ndim=10, stepsize=0.01, like=None):\n",
    "        self.ndim = ndim\n",
    "        self.stepsize = stepsize\n",
    "        if like is not None:\n",
    "            if ndim >= like.ndim:\n",
    "                self.lambdas = np.random.rand(ndim,ndim) * 2*np.pi\n",
    "                self.lambdas[:like.ndim, :like.ndim] = like.lambdas\n",
    "                self.matrix = embed(like.matrix, np.eye(ndim))\n",
    "            else:\n",
    "                self.lambdas = like.lambdas[:ndim, :ndim]\n",
    "                self.matrix = like.matrix[:ndim, :ndim]\n",
    "        else:\n",
    "            self.lambdas = np.random.rand(ndim,ndim)\n",
    "            self.matrix = np.eye(ndim)\n",
    "            \n",
    "        self.thetas = np.zeros_like(self.lambdas)\n",
    "\n",
    "    def proj(self, data, t=1):\n",
    "        thetas = self.lambdas * self.stepsize * t\n",
    "#         self.thetas = self.thetas + d_thetas\n",
    "        self.matrix = getMatrix(np.eye(ndim), thetas, stop_dim=2)\n",
    "        data_t = data.dot(self.matrix[:,:2])\n",
    "        return data_t\n",
    "    \n",
    "\n",
    "\n",
    "class Animation():\n",
    "\n",
    "    def __init__(self, data_seq,\n",
    "                 figsize=[5,5], \n",
    "                 xlim=None, ylim=None):\n",
    "        self.data_seq = data_seq\n",
    "        self.fig = plt.figure(figsize=figsize)\n",
    "        self.ax = self.fig.add_subplot(111)\n",
    "        self.ax.axis('square')\n",
    "        \n",
    "        self.vmax = np.max(np.abs(data_seq))\n",
    "        if xlim is None:\n",
    "            xlim = [-self.vmax*1.05, self.vmax*1.05]\n",
    "        if ylim is None:\n",
    "            ylim = [-self.vmax*1.05, self.vmax*1.05]\n",
    "            \n",
    "        self.ax.set_xlim(xlim)\n",
    "        self.ax.set_ylim(ylim)\n",
    "        self.scatter = self.ax.scatter([], [])\n",
    "    \n",
    "    # initialization function: plot the background of each frame\n",
    "    def anim_init(self):\n",
    "        def init():\n",
    "            self.scatter.set_offsets(np.zeros([10,2]))\n",
    "    #       self.scatter.set_array(labels)\n",
    "            self.scatter.set_cmap('Set1')\n",
    "            return (self.scatter,)\n",
    "        return init\n",
    "    \n",
    "    def anim_draw(self):\n",
    "        def draw(i):\n",
    "            xy = self.data_seq[i]\n",
    "            self.scatter.set_offsets(xy)\n",
    "            return (self.scatter,)\n",
    "        return draw\n",
    "    \n",
    "    def set_color(self, c):\n",
    "        self.scatter.set_color(c)\n",
    "        \n",
    "    def set_size(self, s):\n",
    "        self.scatter.set_sizes(s)\n",
    "        \n",
    "        \n",
    "    def make(self, duration=2000):\n",
    "        anim = animation.FuncAnimation(self.fig, \n",
    "                                       self.anim_draw(), \n",
    "                                       init_func=self.anim_init(),\n",
    "                                       frames=len(self.data_seq), \n",
    "                                       interval=duration / len(self.data_seq), \n",
    "                                       blit=True)\n",
    "        return anim"
   ]
  },
  {
   "cell_type": "code",
   "execution_count": null,
   "metadata": {
    "scrolled": true
   },
   "outputs": [],
   "source": [
    "npoint = 2000\n",
    "data = digitCapActivation2[:npoint].reshape([-1,160])\n",
    "data = data / np.linalg.norm(data, axis=0, keepdims=True)\n",
    "# data = data[:,16*1:16*3]\n",
    "c = plt.cm.tab10(targets2)\n",
    "\n",
    "animations = []\n",
    "gt = None\n",
    "data_seq = []\n",
    "ndim = data.shape[1]\n",
    "gt = GrandTour(ndim, stepsize=0.003)\n",
    "\n",
    "# gt\n",
    "nframe = 1500\n",
    "for i in tqdm(range(nframe)):\n",
    "    points = gt.proj(data, t=i)\n",
    "    data_seq.append(points)\n",
    "    \n",
    "\n"
   ]
  },
  {
   "cell_type": "code",
   "execution_count": null,
   "metadata": {},
   "outputs": [],
   "source": [
    "plt.rc('animation', embed_limit=100)\n",
    "anim = Animation(data_seq)\n",
    "anim.set_color(c[:npoint])\n",
    "anim.set_size([2 for _ in range(npoint)])\n",
    "a = anim.make(nframe/60 * 1000)\n",
    "HTML(a.to_jshtml())  "
   ]
  },
  {
   "cell_type": "code",
   "execution_count": null,
   "metadata": {},
   "outputs": [],
   "source": []
  },
  {
   "cell_type": "markdown",
   "metadata": {},
   "source": [
    "## convert to Keras model, then dump as tensorflowjs"
   ]
  },
  {
   "cell_type": "code",
   "execution_count": null,
   "metadata": {},
   "outputs": [],
   "source": [
    "# drange.reshape(160,2).tolist() \n",
    "# dmeanstd.reshape(160,2).tolist() \n",
    "import json\n",
    "with open('dmeanstd.js' ,'w') as f:\n",
    "    f.write('let dmeanstd = \\n')\n",
    "    json.dump(dmeanstd.reshape(160,2).tolist(), f, indent=2)"
   ]
  },
  {
   "cell_type": "code",
   "execution_count": null,
   "metadata": {},
   "outputs": [],
   "source": [
    "import tensorflow.keras as keras\n",
    "from keras.layers import Lambda\n",
    "from keras import backend as K\n",
    "import tensorflowjs as tfjs\n",
    "\n",
    "# drange = np.fromfile('drange.bin').reshape([10,16,2])\n",
    "# input1 = keras.layers.Input(shape=(160,))\n",
    "# dmin = K.constant(drange[:,:,0].reshape(-1), name='dmin_const')\n",
    "# dmax = K.constant(drange[:,:,1].reshape(-1), name='dmax_const')\n",
    "# y0 = Lambda(lambda input1: input1 *(dmax-dmin) + dmin, \n",
    "#             name='unstandardize')(input1)\n",
    "# undunstandardize = keras.models.Model(inputs=input1, outputs=y0 )\n",
    "\n",
    "model_keras = keras.models.Sequential([\n",
    "    keras.layers.Dense(512, activation='relu', input_shape=(160,)),\n",
    "    keras.layers.Dense(1024, activation='relu'),\n",
    "    keras.layers.Dense(784, activation='sigmoid'),\n",
    "])\n",
    "\n",
    "\n",
    "\n",
    "[w.shape for w in model_keras.get_weights()]\n",
    "\n",
    "model.load_state_dict(torch.load('./capture/MnistNet.model.199'))\n",
    "weights = [[model.reconstruct.layers[i].weight,model.reconstruct.layers[i].bias]  for i in [0,2,4]]\n",
    "weights = sum(weights, [])\n",
    "weights = [w.data.cpu().numpy().T for w in weights]\n",
    "\n",
    "model_keras.set_weights(weights)\n",
    "model_keras.save('model_keras.h5')\n",
    "tfjs.converters.save_keras_model(model_keras, 'reconstruct_tfjs/')"
   ]
  },
  {
   "cell_type": "code",
   "execution_count": null,
   "metadata": {},
   "outputs": [],
   "source": [
    "!zip -r reconstruct.zip reconstruct_tfjs/"
   ]
  },
  {
   "cell_type": "code",
   "execution_count": null,
   "metadata": {},
   "outputs": [],
   "source": [
    "# !tensorflowjs_converter --input_format keras \\\n",
    "                       model_keras.h5 \\\n",
    "                       model_tfjs/"
   ]
  },
  {
   "cell_type": "code",
   "execution_count": null,
   "metadata": {
    "scrolled": true
   },
   "outputs": [],
   "source": [
    "# model_torch = model.reconstruct\n",
    "\n",
    "# dummy_input = torch.randn(1, 160)\n",
    "# torch.onnx.export(model_torch, dummy_input, 'MnistNet.onnx')\n",
    "\n",
    "# model_onnx = onnx.load('MnistNet.onnx')\n",
    "# model_tf = prepare(model_onnx)\n",
    "# model_tf.export_graph('MnistNet.pb')"
   ]
  },
  {
   "cell_type": "code",
   "execution_count": null,
   "metadata": {},
   "outputs": [],
   "source": [
    "# dir(model_tf)\n",
    "# model_tf.tensor_dict\n",
    "# dir(model_tf.graph)\n",
    "\n",
    "# input1 = model_tf.graph.get_operation_by_name('input.1').outputs[0]\n",
    "# output = model_tf.graph.get_operation_by_name('Sigmoid')\n",
    "# model_tf.graph.get_operations()\n",
    "# model_tf.graph.get_name_scope()\n",
    "# # help(tf.random_normal)\n",
    "\n",
    "# model_tf.graph.is_feedable('input.1')"
   ]
  },
  {
   "cell_type": "code",
   "execution_count": null,
   "metadata": {},
   "outputs": [],
   "source": [
    "# import tensorflow as tf\n",
    "\n",
    "\n",
    "# input1 = model_tf.graph.get_operation_by_name('input.1').outputs[0]\n",
    "# output = model_tf.graph.get_operation_by_name('Sigmoid').outputs[0]\n",
    "\n",
    "# with model_tf.graph.as_default(), tf.Session() as sess:\n",
    "#     out = sess.run('Sigmoid:0', feed_dict={'input.1:0': np.random.randn(1,160)})\n",
    "#     print(out.shape)"
   ]
  },
  {
   "cell_type": "code",
   "execution_count": null,
   "metadata": {
    "scrolled": false
   },
   "outputs": [],
   "source": [
    "# !tensorflowjs_converter \\\n",
    "#     --input_format=tf_saved_model \\\n",
    "#     --output_format=tfjs_graph_model \\\n",
    "#     MnistNet.pb \\\n",
    "#     tfjsModel/\n",
    "\n",
    "# !tensorflowjs_converter \\\n",
    "#     --input_format=tf_saved_model \\\n",
    "#     --output_format=tfjs_graph_model\\\n",
    "#     checkpoints/saved_model.pb \\\n",
    "#     ./web_model"
   ]
  },
  {
   "cell_type": "code",
   "execution_count": null,
   "metadata": {},
   "outputs": [],
   "source": [
    "nrow, ncol = 10,10\n",
    "\n",
    "gs = gridspec.GridSpec(nrow, ncol)\n",
    "gs.update(left=0.05, right=0.95, wspace=0.01, hspace=0.0)\n",
    "fig = plt.figure(figsize=[ncol, nrow])\n",
    "for imgs, targets in train_loader:\n",
    "    imgs = imgs.cuda()\n",
    "    targets = targets.cuda()\n",
    "    v = model(imgs)\n",
    "    reconstructed = model.reconstruct(v, targets).view(-1,1,28,28)\n",
    "    \n",
    "    for i, (img0,img1) in enumerate(zip(imgs, reconstructed)):\n",
    "        img0 = img0[0]\n",
    "        img1 = img1[0]\n",
    "        plt.subplot(gs[(i//ncol)*2, i%ncol])\n",
    "        plt.imshow(img0.detach().cpu().numpy(), vmin=0, vmax=1)\n",
    "        plt.axis('off')\n",
    "        plt.subplot(gs[(i//ncol)*2+1, i%ncol])\n",
    "        plt.imshow(img1.detach().cpu().numpy(), vmin=0, vmax=1)\n",
    "        plt.axis('off')\n",
    "        if i >= ncol*nrow//2-1:\n",
    "            break\n",
    "    break"
   ]
  },
  {
   "cell_type": "markdown",
   "metadata": {},
   "source": [
    "## accuracyHistory"
   ]
  },
  {
   "cell_type": "code",
   "execution_count": null,
   "metadata": {},
   "outputs": [],
   "source": [
    "accuracyHistory = []\n",
    "model.eval()\n",
    "for fn in tqdm(natsorted(glob('./capture/MnistNet.model.*'))):\n",
    "    model.load_state_dict(torch.load(fn))\n",
    "#     print(fn)\n",
    "    _,_,acc = test(model, test_loader)\n",
    "    accuracyHistory.append(acc)\n",
    "   "
   ]
  },
  {
   "cell_type": "code",
   "execution_count": null,
   "metadata": {},
   "outputs": [],
   "source": [
    "plt.plot(accuracyHistory, '.-')\n",
    "plt.savefig('accuracy.svg')\n"
   ]
  },
  {
   "cell_type": "code",
   "execution_count": null,
   "metadata": {
    "scrolled": false
   },
   "outputs": [],
   "source": [
    "c = model.cap2d.c.cpu().numpy()\n",
    "\n",
    "# plt.figure(figsize=[c.shape[1],c.shape[0]])\n",
    "plt.imshow(c[:100,:])\n",
    "# for i,row in enumerate(c):\n",
    "#     for j, entry in enumerate(row):\n",
    "#         plt.text(j,i,\n",
    "#                  '{:.1g}'.format(entry),\n",
    "#                  ha='center', va='center',\n",
    "#                  color=[1,1,1])\n",
    "plt.colorbar()\n",
    "plt.show()"
   ]
  },
  {
   "cell_type": "code",
   "execution_count": null,
   "metadata": {
    "scrolled": true
   },
   "outputs": [],
   "source": [
    "for imgs, targets in test_loader:\n",
    "    imgs = imgs.cuda()\n",
    "    \n",
    "    break\n",
    "v = model(imgs)\n",
    "vNorm = v.norm(dim=-1)\n",
    "\n",
    "imgs1 = imgs.detach().cpu().numpy()\n",
    "targets1 = targets.detach().cpu().numpy()\n",
    "v1 = v.detach().cpu().numpy()\n",
    "vNorm1 = vNorm.detach().cpu().numpy()\n",
    "# plt.imshow(vNorm1)\n",
    "# plt.colorbar()\n",
    "\n",
    "for i in range(10):\n",
    "    plt.figure(figsize=[6,2])\n",
    "    plt.subplot(121)\n",
    "    plt.imshow(imgs1[i,0])\n",
    "    plt.subplot(122)\n",
    "    plt.stem(vNorm1[i,:])\n",
    "    plt.xticks(range(10))\n",
    "    plt.show()"
   ]
  },
  {
   "cell_type": "code",
   "execution_count": null,
   "metadata": {},
   "outputs": [],
   "source": [
    "plt.scatter(vNorm1[:,1], vNorm1[:,7], c=targets1, cmap='tab10')\n",
    "plt.colorbar()"
   ]
  },
  {
   "cell_type": "markdown",
   "metadata": {},
   "source": [
    "## Train a klein bottle"
   ]
  },
  {
   "cell_type": "code",
   "execution_count": null,
   "metadata": {},
   "outputs": [],
   "source": [
    "##model def:\n",
    "class KleinNet(nn.Module):\n",
    "    def __init__(self):\n",
    "        super().__init__()\n",
    "        self.cap1 = Capsule(2,1, 4,20)\n",
    "        self.cap2 = Capsule(4,20, 4,20)\n",
    "        self.squash = Squash()\n",
    "        self.fc1 = nn.Linear(self.cap2.nCapOut*self.cap2.dimCapOut, 20)\n",
    "        self.fc2 = nn.Linear(20, 4)\n",
    "        \n",
    "        self.relu = nn.ReLU()\n",
    "        self.tanhshrink = nn.Tanhshrink()\n",
    "        self.tanh = nn.Tanh()\n",
    "        self.celu = nn.CELU()\n",
    "        self.act = self.tanhshrink\n",
    "        \n",
    "    def forward(self, x):\n",
    "        v1 = self.cap1(x)\n",
    "#         z1 = self.squash(self.act(v1))\n",
    "        z1 = self.act(v1)\n",
    "        v2 = self.cap2(z1)\n",
    "#         z2 = self.squash(self.act(v2))\n",
    "        z2 = self.act(v2)\n",
    "        \n",
    "        y1 = self.act(self.fc1(z2.view(x.shape[0], -1)))\n",
    "        y2 = self.fc2(y1)\n",
    "        \n",
    "        self.v1 = v1\n",
    "        self.v2 = v2\n",
    "        return y2\n",
    "    \n",
    "    def dynamicRouting(self):\n",
    "        self.cap1.dynamicRouting(self.v1)\n",
    "        self.cap2.dynamicRouting(self.v2)"
   ]
  },
  {
   "cell_type": "code",
   "execution_count": null,
   "metadata": {},
   "outputs": [],
   "source": [
    "cap = Capsule(3,2,4,2)\n",
    "squash = Squash()\n",
    "for i in range(10):\n",
    "    s = cap(torch.rand(10,3,2))\n",
    "    v = squash(s)\n",
    "    cap.dynamicRouting(v)\n",
    "cap.register_buffer('b', cap.b)"
   ]
  },
  {
   "cell_type": "code",
   "execution_count": null,
   "metadata": {},
   "outputs": [],
   "source": [
    "model = KleinNet()\n",
    "\n",
    "x = (torch.rand(10001,2,1)-0.5) * 3.0 * np.pi\n",
    "y = klein(x[:,0,0], x[:,1,0])"
   ]
  },
  {
   "cell_type": "code",
   "execution_count": null,
   "metadata": {},
   "outputs": [],
   "source": [
    "##loss\n",
    "mse = nn.MSELoss()\n",
    "l1 = nn.L1Loss()\n",
    "\n",
    "\n",
    "##optimizer\n",
    "optimizer = optim.Adam(model.parameters(), lr=0.001)\n",
    "\n",
    "lossHistory = []\n",
    "nepoch = 1000\n",
    "for i in range(nepoch):\n",
    "    yPred = model(x)\n",
    "    loss = mse(yPred, y) + l1(yPred, y)\n",
    "    model.zero_grad()\n",
    "    loss.backward()\n",
    "    optimizer.step()\n",
    "    model.dynamicRouting()\n",
    "    lossHistory.append(np.log(loss.item()))\n",
    "    if i%(nepoch//10)==nepoch//10-1:\n",
    "        plt.figure(figsize=[10,5])\n",
    "        plt.subplot(121)\n",
    "        plt.plot(lossHistory)\n",
    "        plt.title(loss.item())\n",
    "        \n",
    "        dim1,dim2 = 0,1\n",
    "        yPred1 = yPred.cpu().detach().numpy()\n",
    "        y1 = y.cpu().detach().numpy()\n",
    "        plt.subplot(122)\n",
    "        plt.plot(y1[:,dim1], y1[:,dim2], '.', color='grey', markersize=1, alpha=0.1)\n",
    "        plt.scatter(yPred1[:,dim1], yPred1[:,dim2], s=2)\n",
    "        \n",
    "        plt.show()"
   ]
  },
  {
   "cell_type": "code",
   "execution_count": null,
   "metadata": {},
   "outputs": [],
   "source": [
    "\n",
    "yPred1 = yPred.cpu().detach().numpy()\n",
    "y1 = y.cpu().detach().numpy()\n",
    "\n",
    "for dim1 in range(4):\n",
    "    for dim2 in range(dim1+1, 4):\n",
    "        plt.figure(figsize=[5,5])\n",
    "        plt.plot(y1[:,dim1], y1[:,dim2], '.', color='C1', markersize=1, alpha=1)\n",
    "        plt.scatter(yPred1[:,dim1], yPred1[:,dim2], s=2)\n",
    "        plt.show()"
   ]
  },
  {
   "cell_type": "code",
   "execution_count": null,
   "metadata": {},
   "outputs": [],
   "source": []
  },
  {
   "cell_type": "code",
   "execution_count": null,
   "metadata": {},
   "outputs": [],
   "source": []
  }
 ],
 "metadata": {
  "kernelspec": {
   "display_name": "Python 3",
   "language": "python",
   "name": "python3"
  },
  "language_info": {
   "codemirror_mode": {
    "name": "ipython",
    "version": 3
   },
   "file_extension": ".py",
   "mimetype": "text/x-python",
   "name": "python",
   "nbconvert_exporter": "python",
   "pygments_lexer": "ipython3",
   "version": "3.6.6"
  }
 },
 "nbformat": 4,
 "nbformat_minor": 2
}
